{
 "cells": [
  {
   "cell_type": "markdown",
   "metadata": {},
   "source": [
    "# Based on 200 unique reviews on the movie `Take Off `\n",
    "### URL : https://in.bookmyshow.com/kochi/movies/take-off/ET00052469"
   ]
  },
  {
   "cell_type": "markdown",
   "metadata": {
    "collapsed": false
   },
   "source": [
    "### `Load libraries required`"
   ]
  },
  {
   "cell_type": "code",
   "execution_count": 2,
   "metadata": {
    "collapsed": false
   },
   "outputs": [],
   "source": [
    "library('stringr')\n",
    "library('readr')\n",
    "library('wordcloud')\n",
    "library('tm')\n",
    "library('SnowballC')\n",
    "library('RSentiment')\n",
    "library(DT)"
   ]
  },
  {
   "cell_type": "code",
   "execution_count": 3,
   "metadata": {
    "collapsed": false
   },
   "outputs": [],
   "source": [
    "path  <- getwd()\n",
    "setwd  <- path"
   ]
  },
  {
   "cell_type": "markdown",
   "metadata": {},
   "source": [
    "### `Load the data and remove the duplicates`"
   ]
  },
  {
   "cell_type": "code",
   "execution_count": 5,
   "metadata": {
    "collapsed": false
   },
   "outputs": [
    {
     "name": "stdout",
     "output_type": "stream",
     "text": [
      "Dimension before dropping duplicates :  400 12 \n",
      "Dimension after dropping duplicates :  200 12"
     ]
    }
   ],
   "source": [
    "take_off  <- read.csv('take_off/reviews.csv',header = TRUE)\n",
    "cat(\"Dimension before dropping duplicates : \", dim(take_off),\"\\n\")\n",
    "take_off <- unique(take_off)\n",
    "cat(\"Dimension after dropping duplicates : \", dim(take_off))"
   ]
  },
  {
   "cell_type": "code",
   "execution_count": 25,
   "metadata": {
    "collapsed": false
   },
   "outputs": [
    {
     "data": {
      "text/html": [
       "<table>\n",
       "<thead><tr><th scope=col>Date</th><th scope=col>Dislikes</th><th scope=col>Image</th><th scope=col>Likes</th><th scope=col>Name</th><th scope=col>Rating</th><th scope=col>RelativeDate</th><th scope=col>Review</th><th scope=col>ReviewId</th><th scope=col>Title</th><th scope=col>URCount</th><th scope=col>Verified</th></tr></thead>\n",
       "<tbody>\n",
       "\t<tr><td>2017-03-30 12:23:31                                                                                                                                                                   </td><td>0                                                                                                                                                                                     </td><td>https://graph.facebook.com/10204302839170159/picture?type=square                                                                                                                      </td><td>0                                                                                                                                                                                     </td><td>Sandeep                                                                                                                                                                               </td><td> 80                                                                                                                                                                                   </td><td>20 minutes ago                                                                                                                                                                        </td><td>Nice one ... Parvathi is the star of this movie .. Kunchakko and Fahad did their part very well too ... Hats off to the director ..  realistic and one of it's kind ...               </td><td>17704866                                                                                                                                                                              </td><td>Take Off                                                                                                                                                                              </td><td>4                                                                                                                                                                                     </td><td>N                                                                                                                                                                                     </td></tr>\n",
       "\t<tr><td>2017-03-30 12:21:02                                                                                                                                                                                                           </td><td>0                                                                                                                                                                                                                             </td><td>https://www.gravatar.com/avatar/360ab7b1956bf9ea15d0a2c53b59e838?s=50&amp;d=https%3A%2F%2Fin.bmscdn.com%2Fin%2Fsynopsis-new%2Fnoimguser.jpg&amp;r=g                                                                           </td><td>0                                                                                                                                                                                                                             </td><td>Neeraja                                                                                                                                                                                                                       </td><td>100                                                                                                                                                                                                                           </td><td>22 minutes ago                                                                                                                                                                                                                </td><td><span style=white-space:pre-wrap>The movie was so good... Will hold you to the seat till the end... Great performance by Parvathy, Kunchacko boban... Loved the movie so much...                                       </span></td><td>17704674                                                                                                                                                                                                                      </td><td>One among the best movies                                                                                                                                                                                                     </td><td>1                                                                                                                                                                                                                             </td><td>N                                                                                                                                                                                                                             </td></tr>\n",
       "\t<tr><td>2017-03-30 12:03:15                                                                                                                                                                   </td><td>0                                                                                                                                                                                     </td><td>https://www.gravatar.com/avatar/38a73e10ff05040cc0066af5062c9138?s=50&amp;d=https%3A%2F%2Fin.bmscdn.com%2Fin%2Fsynopsis-new%2Fnoimguser.jpg&amp;r=g                                   </td><td>0                                                                                                                                                                                     </td><td>Krishna                                                                                                                                                                               </td><td>100                                                                                                                                                                                   </td><td>40 minutes ago                                                                                                                                                                        </td><td>Awesome movie. Must watch. Fahad Fazil, Parvathi, Kunchacko Boban superb performance. Direction, Camera, Editing everything is perfect. Hats off to the entire team behind this movie.</td><td>17703383                                                                                                                                                                              </td><td><span style=white-space:pre-wrap>Must watch movie         </span>                                                                                                                     </td><td>1                                                                                                                                                                                     </td><td>N                                                                                                                                                                                     </td></tr>\n",
       "</tbody>\n",
       "</table>\n"
      ],
      "text/latex": [
       "\\begin{tabular}{r|llllllllllll}\n",
       " Date & Dislikes & Image & Likes & Name & Rating & RelativeDate & Review & ReviewId & Title & URCount & Verified\\\\\n",
       "\\hline\n",
       "\t 2017-03-30 12:23:31                                                                                                                                                                    & 0                                                                                                                                                                                      & https://graph.facebook.com/10204302839170159/picture?type=square                                                                                                                       & 0                                                                                                                                                                                      & Sandeep                                                                                                                                                                                &  80                                                                                                                                                                                    & 20 minutes ago                                                                                                                                                                         & Nice one ... Parvathi is the star of this movie .. Kunchakko and Fahad did their part very well too ... Hats off to the director ..  realistic and one of it's kind ...                & 17704866                                                                                                                                                                               & Take Off                                                                                                                                                                               & 4                                                                                                                                                                                      & N                                                                                                                                                                                     \\\\\n",
       "\t 2017-03-30 12:21:02                                                                                                                                                                    & 0                                                                                                                                                                                      & https://www.gravatar.com/avatar/360ab7b1956bf9ea15d0a2c53b59e838?s=50\\&d=https\\%3A\\%2F\\%2Fin.bmscdn.com\\%2Fin\\%2Fsynopsis-new\\%2Fnoimguser.jpg\\&r=g                            & 0                                                                                                                                                                                      & Neeraja                                                                                                                                                                                & 100                                                                                                                                                                                    & 22 minutes ago                                                                                                                                                                         & The movie was so good... Will hold you to the seat till the end... Great performance by Parvathy, Kunchacko boban... Loved the movie so much...                                        & 17704674                                                                                                                                                                               & One among the best movies                                                                                                                                                              & 1                                                                                                                                                                                      & N                                                                                                                                                                                     \\\\\n",
       "\t 2017-03-30 12:03:15                                                                                                                                                                    & 0                                                                                                                                                                                      & https://www.gravatar.com/avatar/38a73e10ff05040cc0066af5062c9138?s=50\\&d=https\\%3A\\%2F\\%2Fin.bmscdn.com\\%2Fin\\%2Fsynopsis-new\\%2Fnoimguser.jpg\\&r=g                            & 0                                                                                                                                                                                      & Krishna                                                                                                                                                                                & 100                                                                                                                                                                                    & 40 minutes ago                                                                                                                                                                         & Awesome movie. Must watch. Fahad Fazil, Parvathi, Kunchacko Boban superb performance. Direction, Camera, Editing everything is perfect. Hats off to the entire team behind this movie. & 17703383                                                                                                                                                                               & Must watch movie                                                                                                                                                                       & 1                                                                                                                                                                                      & N                                                                                                                                                                                     \\\\\n",
       "\\end{tabular}\n"
      ],
      "text/markdown": [
       "\n",
       "Date | Dislikes | Image | Likes | Name | Rating | RelativeDate | Review | ReviewId | Title | URCount | Verified | \n",
       "|---|---|---|\n",
       "| 2017-03-30 12:23:31                                                                                                                                                                    | 0                                                                                                                                                                                      | https://graph.facebook.com/10204302839170159/picture?type=square                                                                                                                       | 0                                                                                                                                                                                      | Sandeep                                                                                                                                                                                |  80                                                                                                                                                                                    | 20 minutes ago                                                                                                                                                                         | Nice one ... Parvathi is the star of this movie .. Kunchakko and Fahad did their part very well too ... Hats off to the director ..  realistic and one of it's kind ...                | 17704866                                                                                                                                                                               | Take Off                                                                                                                                                                               | 4                                                                                                                                                                                      | N                                                                                                                                                                                      | \n",
       "| 2017-03-30 12:21:02                                                                                                                                                                    | 0                                                                                                                                                                                      | https://www.gravatar.com/avatar/360ab7b1956bf9ea15d0a2c53b59e838?s=50&d=https%3A%2F%2Fin.bmscdn.com%2Fin%2Fsynopsis-new%2Fnoimguser.jpg&r=g                                            | 0                                                                                                                                                                                      | Neeraja                                                                                                                                                                                | 100                                                                                                                                                                                    | 22 minutes ago                                                                                                                                                                         | The movie was so good... Will hold you to the seat till the end... Great performance by Parvathy, Kunchacko boban... Loved the movie so much...                                        | 17704674                                                                                                                                                                               | One among the best movies                                                                                                                                                              | 1                                                                                                                                                                                      | N                                                                                                                                                                                      | \n",
       "| 2017-03-30 12:03:15                                                                                                                                                                    | 0                                                                                                                                                                                      | https://www.gravatar.com/avatar/38a73e10ff05040cc0066af5062c9138?s=50&d=https%3A%2F%2Fin.bmscdn.com%2Fin%2Fsynopsis-new%2Fnoimguser.jpg&r=g                                            | 0                                                                                                                                                                                      | Krishna                                                                                                                                                                                | 100                                                                                                                                                                                    | 40 minutes ago                                                                                                                                                                         | Awesome movie. Must watch. Fahad Fazil, Parvathi, Kunchacko Boban superb performance. Direction, Camera, Editing everything is perfect. Hats off to the entire team behind this movie. | 17703383                                                                                                                                                                               | Must watch movie                                                                                                                                                                       | 1                                                                                                                                                                                      | N                                                                                                                                                                                      | \n",
       "\n",
       "\n"
      ],
      "text/plain": [
       "  Date                Dislikes\n",
       "1 2017-03-30 12:23:31 0       \n",
       "2 2017-03-30 12:21:02 0       \n",
       "3 2017-03-30 12:03:15 0       \n",
       "  Image                                                                                                                                      \n",
       "1 https://graph.facebook.com/10204302839170159/picture?type=square                                                                           \n",
       "2 https://www.gravatar.com/avatar/360ab7b1956bf9ea15d0a2c53b59e838?s=50&d=https%3A%2F%2Fin.bmscdn.com%2Fin%2Fsynopsis-new%2Fnoimguser.jpg&r=g\n",
       "3 https://www.gravatar.com/avatar/38a73e10ff05040cc0066af5062c9138?s=50&d=https%3A%2F%2Fin.bmscdn.com%2Fin%2Fsynopsis-new%2Fnoimguser.jpg&r=g\n",
       "  Likes Name    Rating RelativeDate  \n",
       "1 0     Sandeep  80    20 minutes ago\n",
       "2 0     Neeraja 100    22 minutes ago\n",
       "3 0     Krishna 100    40 minutes ago\n",
       "  Review                                                                                                                                                                                \n",
       "1 Nice one ... Parvathi is the star of this movie .. Kunchakko and Fahad did their part very well too ... Hats off to the director ..  realistic and one of it's kind ...               \n",
       "2 The movie was so good... Will hold you to the seat till the end... Great performance by Parvathy, Kunchacko boban... Loved the movie so much...                                       \n",
       "3 Awesome movie. Must watch. Fahad Fazil, Parvathi, Kunchacko Boban superb performance. Direction, Camera, Editing everything is perfect. Hats off to the entire team behind this movie.\n",
       "  ReviewId Title                     URCount Verified\n",
       "1 17704866 Take Off                  4       N       \n",
       "2 17704674 One among the best movies 1       N       \n",
       "3 17703383 Must watch movie          1       N       "
      ]
     },
     "metadata": {},
     "output_type": "display_data"
    }
   ],
   "source": [
    "head(take_off,n=3)"
   ]
  },
  {
   "cell_type": "markdown",
   "metadata": {},
   "source": [
    "### `Select the column contains review`"
   ]
  },
  {
   "cell_type": "code",
   "execution_count": 4,
   "metadata": {
    "collapsed": false
   },
   "outputs": [],
   "source": [
    "r1 = as.character(take_off$Review)"
   ]
  },
  {
   "cell_type": "code",
   "execution_count": 5,
   "metadata": {
    "collapsed": false
   },
   "outputs": [],
   "source": [
    "sample = sample(r1, (length(r1))) # Taking a random sample vector of length of r1 from r1 "
   ]
  },
  {
   "cell_type": "markdown",
   "metadata": {},
   "source": [
    "`The main structure for managing documents in tm is a so-called Corpus, representing a collection of text\n",
    "documents. A corpus is an abstract concept, and there can exist several implementations in parallel. The\n",
    "default implementation is the so-called VCorpus (short for Volatile Corpus) which realizes a semantics as known\n",
    "from most R objects: corpora are R objects held fully in memory. We denote this as volatile since once the\n",
    "R object is destroyed, the whole corpus is gone. Such a volatile corpus can be created via the constructor\n",
    "VCorpus(x, readerControl). Another implementation is the PCorpus which implements a Permanent Corpus\n",
    "semantics, i.e., the documents are physically stored outside of R (e.g., in a database), corresponding R objects\n",
    "are basically only pointers to external structures, and changes to the underlying corpus are reflected to all R\n",
    "objects associated with it. Compared to the volatile corpus the corpus encapsulated by a permanent corpus\n",
    "object is not destroyed if the corresponding R object is released.\n",
    "Within the corpus constructor, x must be a Source object which abstracts the input location. tm provides a\n",
    "set of predefined sources, e.g., DirSource, VectorSource, or DataframeSource, which handle a directory, a vector\n",
    "interpreting each component as document, or data frame like structures (like CSV files), respectively. Except\n",
    "DirSource, which is designed solely for directories on a file system, and VectorSource, which only accepts (character)\n",
    "vectors, most other implemented sources can take connections as input (a character string is interpreted\n",
    "as file path). getSources() lists available sources, and users can create their own sources.`\n",
    "\n",
    "Read more on tm package here : https://cran.r-project.org/web/packages/tm/vignettes/tm.pdf"
   ]
  },
  {
   "cell_type": "code",
   "execution_count": 6,
   "metadata": {
    "collapsed": true
   },
   "outputs": [],
   "source": [
    "corpus = Corpus(VectorSource(list(sample))) "
   ]
  },
  {
   "cell_type": "code",
   "execution_count": 7,
   "metadata": {
    "collapsed": true
   },
   "outputs": [],
   "source": [
    "corpus = tm_map(corpus, removePunctuation) # removes punctuations from the text corpuses\n",
    "corpus = tm_map(corpus, content_transformer(tolower)) # to lower case to avoid obvious redundancy\n",
    "corpus = tm_map(corpus, removeNumbers) # removing numbers\n",
    "corpus = tm_map(corpus, stripWhitespace) # stripping white spaces"
   ]
  },
  {
   "cell_type": "markdown",
   "metadata": {},
   "source": [
    "`In computing, stop words are words which are filtered out before or after processing of natural language data (text).[1] Though stop words usually refer to the most common words in a language, there is no single universal list of stop words used by all natural language processing tools, and indeed not all tools even use such a list.`\n",
    "\n",
    "Check stop words in english here : http://www.ranks.nl/stopwords"
   ]
  },
  {
   "cell_type": "code",
   "execution_count": 9,
   "metadata": {
    "collapsed": true
   },
   "outputs": [],
   "source": [
    "corpus = tm_map(corpus, removeWords, stopwords('english')) # removing stop words"
   ]
  },
  {
   "cell_type": "markdown",
   "metadata": {},
   "source": [
    "`In linguistic morphology and information retrieval, stemming is the process of reducing inflected (or sometimes derived) words to their word stem, base or root form—generally a written word form. The stem need not be identical to the morphological root of the word`\n",
    "\n",
    "E.g. The stem word of all three words listed down is **account**\n",
    "+ accounts\n",
    "+ account   \n",
    "+ accounting "
   ]
  },
  {
   "cell_type": "markdown",
   "metadata": {},
   "source": [
    "- Read more about stemming here : https://nlp.stanford.edu/IR-book/html/htmledition/stemming-and-lemmatization-1.html\n",
    "- Read more about SnowballC package here : https://cran.r-project.org/web/packages/SnowballC/SnowballC.pdf"
   ]
  },
  {
   "cell_type": "code",
   "execution_count": 10,
   "metadata": {
    "collapsed": true
   },
   "outputs": [],
   "source": [
    "corpus = tm_map(corpus, stemDocument)"
   ]
  },
  {
   "cell_type": "markdown",
   "metadata": {},
   "source": [
    "## `Bag of word model` \n",
    "\n",
    "`The bag-of-words model is a simplifying representation used in natural language processing and information retrieval (IR). In this model, a text (such as a sentence or a document) is represented as the bag (multiset) of its words, disregarding grammar and even word order but keeping multiplicity.`\n",
    "\n",
    "Read more on Bag of Words model here : http://cs.nyu.edu/~fergus/teaching/vision_2012/9_BoW.pdf"
   ]
  },
  {
   "cell_type": "code",
   "execution_count": 11,
   "metadata": {
    "collapsed": true
   },
   "outputs": [],
   "source": [
    "dtm_up = DocumentTermMatrix(VCorpus(VectorSource(corpus[[1]]$content)))"
   ]
  },
  {
   "cell_type": "markdown",
   "metadata": {},
   "source": [
    "## `Frequency matrix with words and occurances`"
   ]
  },
  {
   "cell_type": "code",
   "execution_count": 12,
   "metadata": {
    "collapsed": true
   },
   "outputs": [],
   "source": [
    "freq_up <- colSums(as.matrix(dtm_up))"
   ]
  },
  {
   "cell_type": "markdown",
   "metadata": {},
   "source": [
    "## `Displaying the most occured 10 words in the corpus`"
   ]
  },
  {
   "cell_type": "code",
   "execution_count": 13,
   "metadata": {
    "collapsed": false
   },
   "outputs": [
    {
     "data": {
      "text/html": [
       "<table>\n",
       "<thead><tr><th scope=col>Word</th><th scope=col>Count</th></tr></thead>\n",
       "<tbody>\n",
       "\t<tr><td>movi     </td><td>244      </td></tr>\n",
       "\t<tr><td>parvathi </td><td> 88      </td></tr>\n",
       "\t<tr><td>watch    </td><td> 81      </td></tr>\n",
       "\t<tr><td>act      </td><td> 60      </td></tr>\n",
       "\t<tr><td>fahad    </td><td> 58      </td></tr>\n",
       "\t<tr><td>good     </td><td> 57      </td></tr>\n",
       "\t<tr><td>film     </td><td> 54      </td></tr>\n",
       "\t<tr><td>malayalam</td><td> 52      </td></tr>\n",
       "\t<tr><td>well     </td><td> 47      </td></tr>\n",
       "\t<tr><td>best     </td><td> 46      </td></tr>\n",
       "</tbody>\n",
       "</table>\n"
      ],
      "text/latex": [
       "\\begin{tabular}{r|ll}\n",
       " Word & Count\\\\\n",
       "\\hline\n",
       "\t movi      & 244      \\\\\n",
       "\t parvathi  &  88      \\\\\n",
       "\t watch     &  81      \\\\\n",
       "\t act       &  60      \\\\\n",
       "\t fahad     &  58      \\\\\n",
       "\t good      &  57      \\\\\n",
       "\t film      &  54      \\\\\n",
       "\t malayalam &  52      \\\\\n",
       "\t well      &  47      \\\\\n",
       "\t best      &  46      \\\\\n",
       "\\end{tabular}\n"
      ],
      "text/markdown": [
       "\n",
       "Word | Count | \n",
       "|---|---|---|---|---|---|---|---|---|---|\n",
       "| movi      | 244       | \n",
       "| parvathi  |  88       | \n",
       "| watch     |  81       | \n",
       "| act       |  60       | \n",
       "| fahad     |  58       | \n",
       "| good      |  57       | \n",
       "| film      |  54       | \n",
       "| malayalam |  52       | \n",
       "| well      |  47       | \n",
       "| best      |  46       | \n",
       "\n",
       "\n"
      ],
      "text/plain": [
       "   Word      Count\n",
       "1  movi      244  \n",
       "2  parvathi   88  \n",
       "3  watch      81  \n",
       "4  act        60  \n",
       "5  fahad      58  \n",
       "6  good       57  \n",
       "7  film       54  \n",
       "8  malayalam  52  \n",
       "9  well       47  \n",
       "10 best       46  "
      ]
     },
     "metadata": {},
     "output_type": "display_data"
    }
   ],
   "source": [
    "for_display  <- data.frame(colnames(dtm_up),colSums(as.matrix(dtm_up)))\n",
    "rownames(for_display) <- NULL\n",
    "colnames(for_display) <- c(\"Word\",\"Count\")\n",
    "for_display <- for_display[order(-for_display$Count),] \n",
    "rownames(for_display) <- NULL\n",
    "head(for_display,n=10)"
   ]
  },
  {
   "cell_type": "markdown",
   "metadata": {},
   "source": [
    "## `Calculating Sentiments`"
   ]
  },
  {
   "cell_type": "code",
   "execution_count": 14,
   "metadata": {
    "collapsed": true
   },
   "outputs": [],
   "source": [
    "sentiments_up = calculate_sentiment(names(freq_up))\n",
    "sentiments_up = cbind(sentiments_up, as.data.frame(freq_up))"
   ]
  },
  {
   "cell_type": "code",
   "execution_count": 15,
   "metadata": {
    "collapsed": true
   },
   "outputs": [],
   "source": [
    "sent_pos_up = sentiments_up[sentiments_up$sentiment == 'Positive',]\n",
    "sent_neg_up = sentiments_up[sentiments_up$sentiment == 'Negative',]"
   ]
  },
  {
   "cell_type": "markdown",
   "metadata": {},
   "source": [
    "+ Read more about Sentiment Analysis here : https://lct-master.org/files/MullenSentimentCourseSlides.pdf\n",
    "+ Read more about RSentiment Package here : https://cran.r-project.org/web/packages/RSentiment/RSentiment.pdf"
   ]
  },
  {
   "cell_type": "markdown",
   "metadata": {},
   "source": [
    "## `Displaying Positive words in corpus`"
   ]
  },
  {
   "cell_type": "code",
   "execution_count": 16,
   "metadata": {
    "collapsed": false
   },
   "outputs": [
    {
     "data": {
      "text/html": [
       "<table>\n",
       "<thead><tr><th scope=col>text</th><th scope=col>sentiment</th><th scope=col>freq_up</th></tr></thead>\n",
       "<tbody>\n",
       "\t<tr><td>good     </td><td>Positive </td><td>57       </td></tr>\n",
       "\t<tr><td>well     </td><td>Positive </td><td>47       </td></tr>\n",
       "\t<tr><td>best     </td><td>Positive </td><td>46       </td></tr>\n",
       "\t<tr><td>great    </td><td>Positive </td><td>46       </td></tr>\n",
       "\t<tr><td>like     </td><td>Positive </td><td>30       </td></tr>\n",
       "\t<tr><td>excel    </td><td>Positive </td><td>29       </td></tr>\n",
       "\t<tr><td>superb   </td><td>Positive </td><td>27       </td></tr>\n",
       "\t<tr><td>brilliant</td><td>Positive </td><td>20       </td></tr>\n",
       "\t<tr><td>perfect  </td><td>Positive </td><td>15       </td></tr>\n",
       "\t<tr><td>super    </td><td>Positive </td><td>13       </td></tr>\n",
       "</tbody>\n",
       "</table>\n"
      ],
      "text/latex": [
       "\\begin{tabular}{r|lll}\n",
       " text & sentiment & freq\\_up\\\\\n",
       "\\hline\n",
       "\t good      & Positive  & 57       \\\\\n",
       "\t well      & Positive  & 47       \\\\\n",
       "\t best      & Positive  & 46       \\\\\n",
       "\t great     & Positive  & 46       \\\\\n",
       "\t like      & Positive  & 30       \\\\\n",
       "\t excel     & Positive  & 29       \\\\\n",
       "\t superb    & Positive  & 27       \\\\\n",
       "\t brilliant & Positive  & 20       \\\\\n",
       "\t perfect   & Positive  & 15       \\\\\n",
       "\t super     & Positive  & 13       \\\\\n",
       "\\end{tabular}\n"
      ],
      "text/markdown": [
       "\n",
       "text | sentiment | freq_up | \n",
       "|---|---|---|---|---|---|---|---|---|---|\n",
       "| good      | Positive  | 57        | \n",
       "| well      | Positive  | 47        | \n",
       "| best      | Positive  | 46        | \n",
       "| great     | Positive  | 46        | \n",
       "| like      | Positive  | 30        | \n",
       "| excel     | Positive  | 29        | \n",
       "| superb    | Positive  | 27        | \n",
       "| brilliant | Positive  | 20        | \n",
       "| perfect   | Positive  | 15        | \n",
       "| super     | Positive  | 13        | \n",
       "\n",
       "\n"
      ],
      "text/plain": [
       "   text      sentiment freq_up\n",
       "1  good      Positive  57     \n",
       "2  well      Positive  47     \n",
       "3  best      Positive  46     \n",
       "4  great     Positive  46     \n",
       "5  like      Positive  30     \n",
       "6  excel     Positive  29     \n",
       "7  superb    Positive  27     \n",
       "8  brilliant Positive  20     \n",
       "9  perfect   Positive  15     \n",
       "10 super     Positive  13     "
      ]
     },
     "metadata": {},
     "output_type": "display_data"
    }
   ],
   "source": [
    "for_display_two  <- sent_pos_up\n",
    "for_display_two  <- for_display_two[order(-for_display_two$freq_up),]\n",
    "rownames(for_display_two) <- NULL\n",
    "head(for_display_two,n=10)"
   ]
  },
  {
   "cell_type": "markdown",
   "metadata": {},
   "source": [
    "## `Displaying Negative words in corpus`"
   ]
  },
  {
   "cell_type": "code",
   "execution_count": 17,
   "metadata": {
    "collapsed": false
   },
   "outputs": [
    {
     "data": {
      "text/html": [
       "<table>\n",
       "<thead><tr><th scope=col>text</th><th scope=col>sentiment</th><th scope=col>freq_up</th></tr></thead>\n",
       "<tbody>\n",
       "\t<tr><td>miss    </td><td>Negative</td><td>17      </td></tr>\n",
       "\t<tr><td>blow    </td><td>Negative</td><td> 5      </td></tr>\n",
       "\t<tr><td>lag     </td><td>Negative</td><td> 5      </td></tr>\n",
       "\t<tr><td>bore    </td><td>Negative</td><td> 4      </td></tr>\n",
       "\t<tr><td>pleas   </td><td>Negative</td><td> 3      </td></tr>\n",
       "\t<tr><td>risk    </td><td>Negative</td><td> 3      </td></tr>\n",
       "\t<tr><td>stun    </td><td>Negative</td><td> 3      </td></tr>\n",
       "\t<tr><td>suffer  </td><td>Negative</td><td> 3      </td></tr>\n",
       "\t<tr><td>attack  </td><td>Negative</td><td> 2      </td></tr>\n",
       "\t<tr><td>bad     </td><td>Negative</td><td> 2      </td></tr>\n",
       "</tbody>\n",
       "</table>\n"
      ],
      "text/latex": [
       "\\begin{tabular}{r|lll}\n",
       " text & sentiment & freq\\_up\\\\\n",
       "\\hline\n",
       "\t miss     & Negative & 17      \\\\\n",
       "\t blow     & Negative &  5      \\\\\n",
       "\t lag      & Negative &  5      \\\\\n",
       "\t bore     & Negative &  4      \\\\\n",
       "\t pleas    & Negative &  3      \\\\\n",
       "\t risk     & Negative &  3      \\\\\n",
       "\t stun     & Negative &  3      \\\\\n",
       "\t suffer   & Negative &  3      \\\\\n",
       "\t attack   & Negative &  2      \\\\\n",
       "\t bad      & Negative &  2      \\\\\n",
       "\\end{tabular}\n"
      ],
      "text/markdown": [
       "\n",
       "text | sentiment | freq_up | \n",
       "|---|---|---|---|---|---|---|---|---|---|\n",
       "| miss     | Negative | 17       | \n",
       "| blow     | Negative |  5       | \n",
       "| lag      | Negative |  5       | \n",
       "| bore     | Negative |  4       | \n",
       "| pleas    | Negative |  3       | \n",
       "| risk     | Negative |  3       | \n",
       "| stun     | Negative |  3       | \n",
       "| suffer   | Negative |  3       | \n",
       "| attack   | Negative |  2       | \n",
       "| bad      | Negative |  2       | \n",
       "\n",
       "\n"
      ],
      "text/plain": [
       "   text   sentiment freq_up\n",
       "1  miss   Negative  17     \n",
       "2  blow   Negative   5     \n",
       "3  lag    Negative   5     \n",
       "4  bore   Negative   4     \n",
       "5  pleas  Negative   3     \n",
       "6  risk   Negative   3     \n",
       "7  stun   Negative   3     \n",
       "8  suffer Negative   3     \n",
       "9  attack Negative   2     \n",
       "10 bad    Negative   2     "
      ]
     },
     "metadata": {},
     "output_type": "display_data"
    }
   ],
   "source": [
    "for_display_three  <- sent_neg_up\n",
    "for_display_three  <- for_display_three[order(-for_display_three$freq_up),]\n",
    "rownames(for_display_three) <- NULL\n",
    "head(for_display_three,n=10)"
   ]
  },
  {
   "cell_type": "code",
   "execution_count": 18,
   "metadata": {
    "collapsed": false
   },
   "outputs": [
    {
     "name": "stdout",
     "output_type": "stream",
     "text": [
      "We have far lower negative Sentiments:  82  than positive:  471"
     ]
    }
   ],
   "source": [
    "cat(\"We have far lower negative Sentiments: \",sum(sent_neg_up$freq_up),\" than positive: \",sum(sent_pos_up$freq_up))"
   ]
  },
  {
   "cell_type": "markdown",
   "metadata": {},
   "source": [
    "## `Representing as word cloud (Positive words)`"
   ]
  },
  {
   "cell_type": "code",
   "execution_count": 19,
   "metadata": {
    "collapsed": false
   },
   "outputs": [
    {
     "name": "stderr",
     "output_type": "stream",
     "text": [
      "Warning message in par(fig = c(0, 1, 0, 1), new = TRUE):\n",
      "\"calling par(new=TRUE) with no plot\""
     ]
    },
    {
     "data": {
      "image/png": "[encoded data removed]",
      "text/plain": [
       "plot without title"
      ]
     },
     "metadata": {},
     "output_type": "display_data"
    }
   ],
   "source": [
    "par(fig=c(0,1,0,1), new=TRUE)\n",
    "set.seed(100)\n",
    "wordcloud(sent_pos_up$text,sent_pos_up$freq,min.freq=1,colors=brewer.pal(6,\"Dark2\"))"
   ]
  },
  {
   "cell_type": "code",
   "execution_count": 20,
   "metadata": {
    "collapsed": false
   },
   "outputs": [
    {
     "name": "stderr",
     "output_type": "stream",
     "text": [
      "Warning message in par(fig = c(0, 1, 0, 1), new = TRUE):\n",
      "\"calling par(new=TRUE) with no plot\""
     ]
    },
    {
     "data": {
      "image/png": "[encoded data removed]",
      "text/plain": [
       "plot without title"
      ]
     },
     "metadata": {},
     "output_type": "display_data"
    }
   ],
   "source": [
    "par(fig=c(0,1,0,1), new=TRUE)\n",
    "set.seed(100)\n",
    "wordcloud(sent_neg_up$text,sent_neg_up$freq, min.freq=1,colors=brewer.pal(6,\"Dark2\"))"
   ]
  },
  {
   "cell_type": "markdown",
   "metadata": {},
   "source": [
    "`Checking these words in each review and finding which category of words (Positive or Negative) occured mostly in the sentence will give us the sentiments of it. This is obviously a hello world approach.`"
   ]
  },
  {
   "cell_type": "markdown",
   "metadata": {},
   "source": [
    "## `Using a better way to find sentiments : syuzhet`"
   ]
  },
  {
   "cell_type": "markdown",
   "metadata": {},
   "source": [
    "Read more on syuzhet here : https://cran.r-project.org/web/packages/syuzhet/vignettes/syuzhet-vignette.html"
   ]
  },
  {
   "cell_type": "markdown",
   "metadata": {},
   "source": [
    "### `Get the input text and libraries`"
   ]
  },
  {
   "cell_type": "code",
   "execution_count": 7,
   "metadata": {
    "collapsed": false
   },
   "outputs": [],
   "source": [
    "library(ggplot2) # Data visualization\n",
    "library(syuzhet)"
   ]
  },
  {
   "cell_type": "code",
   "execution_count": 8,
   "metadata": {
    "collapsed": true
   },
   "outputs": [],
   "source": [
    "#Approach 2 - using the 'syuzhet' package\n",
    "text = as.character(take_off$Review) "
   ]
  },
  {
   "cell_type": "code",
   "execution_count": 9,
   "metadata": {
    "collapsed": false
   },
   "outputs": [],
   "source": [
    "##let's clean html links\n",
    "some_txt<-gsub(\"http[^[:blank:]]+\",\"\",text)"
   ]
  },
  {
   "cell_type": "code",
   "execution_count": 10,
   "metadata": {
    "collapsed": true
   },
   "outputs": [],
   "source": [
    "##let's remove people names\n",
    "some_txt<-gsub(\"@\\\\w+\",\"\",some_txt)"
   ]
  },
  {
   "cell_type": "code",
   "execution_count": 11,
   "metadata": {
    "collapsed": true
   },
   "outputs": [],
   "source": [
    "##let's remove punctuations\n",
    "some_txt<-gsub(\"[[:punct:]]\",\" \",some_txt)"
   ]
  },
  {
   "cell_type": "code",
   "execution_count": 12,
   "metadata": {
    "collapsed": true
   },
   "outputs": [],
   "source": [
    "##let's remove number (alphanumeric)\n",
    "some_txt<-gsub(\"[^[:alnum:]]\",\" \",some_txt)"
   ]
  },
  {
   "cell_type": "markdown",
   "metadata": {},
   "source": [
    "## `Catagorized sentiments scores using Saif Mohammad’s NRC Emotion lexicon`"
   ]
  },
  {
   "cell_type": "code",
   "execution_count": 13,
   "metadata": {
    "collapsed": false
   },
   "outputs": [],
   "source": [
    "mysentiment<-get_nrc_sentiment((some_txt))"
   ]
  },
  {
   "cell_type": "code",
   "execution_count": 14,
   "metadata": {
    "collapsed": true
   },
   "outputs": [],
   "source": [
    "mysentiment.positive =sum(mysentiment$positive)\n",
    "mysentiment.anger =sum(mysentiment$anger)\n",
    "mysentiment.anticipation =sum(mysentiment$anticipation)\n",
    "mysentiment.disgust =sum(mysentiment$disgust)\n",
    "mysentiment.fear =sum(mysentiment$fear)\n",
    "mysentiment.joy =sum(mysentiment$joy)\n",
    "mysentiment.sadness =sum(mysentiment$sadness)\n",
    "mysentiment.surprise =sum(mysentiment$surprise)\n",
    "mysentiment.trust =sum(mysentiment$trust)\n",
    "mysentiment.negative =sum(mysentiment$negative)"
   ]
  },
  {
   "cell_type": "markdown",
   "metadata": {},
   "source": [
    "## `Create the bar chart`"
   ]
  },
  {
   "cell_type": "code",
   "execution_count": 15,
   "metadata": {
    "collapsed": false
   },
   "outputs": [
    {
     "data": {
      "text/html": [
       "<table>\n",
       "<thead><tr><th scope=col>Emotion</th><th scope=col>Score</th></tr></thead>\n",
       "<tbody>\n",
       "\t<tr><td>Positive    </td><td>554         </td></tr>\n",
       "\t<tr><td>Trust       </td><td>401         </td></tr>\n",
       "\t<tr><td>Anticipation</td><td>279         </td></tr>\n",
       "\t<tr><td>Joy         </td><td>278         </td></tr>\n",
       "\t<tr><td>Surprise    </td><td>148         </td></tr>\n",
       "\t<tr><td>Fear        </td><td>124         </td></tr>\n",
       "\t<tr><td>Negative    </td><td>115         </td></tr>\n",
       "\t<tr><td>Anger       </td><td> 64         </td></tr>\n",
       "\t<tr><td>Sadness     </td><td> 44         </td></tr>\n",
       "\t<tr><td>Disgust     </td><td> 26         </td></tr>\n",
       "</tbody>\n",
       "</table>\n"
      ],
      "text/latex": [
       "\\begin{tabular}{r|ll}\n",
       " Emotion & Score\\\\\n",
       "\\hline\n",
       "\t Positive     & 554         \\\\\n",
       "\t Trust        & 401         \\\\\n",
       "\t Anticipation & 279         \\\\\n",
       "\t Joy          & 278         \\\\\n",
       "\t Surprise     & 148         \\\\\n",
       "\t Fear         & 124         \\\\\n",
       "\t Negative     & 115         \\\\\n",
       "\t Anger        &  64         \\\\\n",
       "\t Sadness      &  44         \\\\\n",
       "\t Disgust      &  26         \\\\\n",
       "\\end{tabular}\n"
      ],
      "text/markdown": [
       "\n",
       "Emotion | Score | \n",
       "|---|---|---|---|---|---|---|---|---|---|\n",
       "| Positive     | 554          | \n",
       "| Trust        | 401          | \n",
       "| Anticipation | 279          | \n",
       "| Joy          | 278          | \n",
       "| Surprise     | 148          | \n",
       "| Fear         | 124          | \n",
       "| Negative     | 115          | \n",
       "| Anger        |  64          | \n",
       "| Sadness      |  44          | \n",
       "| Disgust      |  26          | \n",
       "\n",
       "\n"
      ],
      "text/plain": [
       "   Emotion      Score\n",
       "1  Positive     554  \n",
       "2  Trust        401  \n",
       "3  Anticipation 279  \n",
       "4  Joy          278  \n",
       "5  Surprise     148  \n",
       "6  Fear         124  \n",
       "7  Negative     115  \n",
       "8  Anger         64  \n",
       "9  Sadness       44  \n",
       "10 Disgust       26  "
      ]
     },
     "metadata": {},
     "output_type": "display_data"
    }
   ],
   "source": [
    "yAxis <- c(mysentiment.positive,mysentiment.anger,mysentiment.anticipation,mysentiment.disgust,mysentiment.fear,\n",
    "+ mysentiment.joy,+ mysentiment.sadness,+ mysentiment.surprise,+ mysentiment.trust,+ mysentiment.negative)\n",
    "xAxis <- c(\"Positive\",\"Anger\",\"Anticipation\",\"Disgust\",\"Fear\",\"Joy\",\"Sadness\",\"Surprise\",\"Trust\",\"Negative\")\n",
    "plot_df  <- data.frame(xAxis,yAxis)\n",
    "colnames(plot_df)  <- c(\"Emotion\",\"Score\")\n",
    "plot_df  <- plot_df[order(-plot_df$Score),]\n",
    "rownames(plot_df) <- NULL\n",
    "plot_df"
   ]
  },
  {
   "cell_type": "code",
   "execution_count": 19,
   "metadata": {
    "collapsed": false
   },
   "outputs": [],
   "source": [
    "write.csv(plot_df,\"../take_off/out.csv\") # storing the plot data "
   ]
  },
  {
   "cell_type": "markdown",
   "metadata": {},
   "source": [
    "# Beautify using ggplot2\n",
    "\n",
    "Read more about bar plots using ggplot2 here :http://www.sthda.com/english/wiki/ggplot2-barplots-quick-start-guide-r-software-and-data-visualization"
   ]
  },
  {
   "cell_type": "code",
   "execution_count": 105,
   "metadata": {
    "collapsed": false
   },
   "outputs": [
    {
     "data": {},
     "metadata": {},
     "output_type": "display_data"
    },
    {
     "data": {
      "image/png": "[encoded data removed]",
      "text/plain": [
       "plot without title"
      ]
     },
     "metadata": {},
     "output_type": "display_data"
    }
   ],
   "source": [
    "ggplot(plot_df,aes(Emotion,Score),fill =Emotion)+\n",
    "    geom_bar(stat = \"identity\", aes(fill = Emotion),position = \"dodge\",width=0.5) +\n",
    "    xlab(\"Emotion\") + ylab(\"Score\") +\n",
    "    labs(x=\"Emotion\", \n",
    "              y=\"Score\",\n",
    "              title=\"BookMyShow - Sentiment for Movie Take Off 2017\",\n",
    "              subtitle=\"31st March 2017\")+\n",
    "    theme(axis.text.x=element_text(angle=-45, hjust=0, vjust=1))+\n",
    "    theme(plot.title=element_text(size=18, hjust=0.5, face=\"bold\", colour=\"Black\", vjust=-1))+\n",
    "    theme(plot.subtitle=element_text(size=15, hjust=0.5, face=\"italic\", color=\"black\"))+\n",
    "    geom_text(aes(label=Emotion), vjust=-0.3, color=\"black\", size=3.5)+\n",
    "    scale_x_discrete(limits=plot_df$Emotion)+\n",
    "    theme_light()"
   ]
  }
 ],
 "metadata": {
  "kernelspec": {
   "display_name": "R",
   "language": "R",
   "name": "ir"
  },
  "language_info": {
   "codemirror_mode": "r",
   "file_extension": ".r",
   "mimetype": "text/x-r-source",
   "name": "R",
   "pygments_lexer": "r",
   "version": "3.3.2"
  }
 },
 "nbformat": 4,
 "nbformat_minor": 2
}
