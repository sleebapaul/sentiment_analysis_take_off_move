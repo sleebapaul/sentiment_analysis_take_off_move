{
 "cells": [
  {
   "cell_type": "markdown",
   "metadata": {},
   "source": [
    "# `Import Libraries`"
   ]
  },
  {
   "cell_type": "code",
   "execution_count": 1,
   "metadata": {
    "collapsed": true
   },
   "outputs": [],
   "source": [
    "import urllib.request\n",
    "from bs4 import BeautifulSoup\n",
    "import re\n",
    "import pandas as pd\n",
    "import csv\n",
    "import json\n",
    "from pandas.io.json import json_normalize"
   ]
  },
  {
   "cell_type": "markdown",
   "metadata": {},
   "source": [
    "# `Fetch the data`"
   ]
  },
  {
   "cell_type": "code",
   "execution_count": 10,
   "metadata": {
    "collapsed": false
   },
   "outputs": [
    {
     "name": "stdout",
     "output_type": "stream",
     "text": [
      "Page 0 is done\n",
      "Page 1 is done\n",
      "Page 2 is done\n",
      "Page 3 is done\n",
      "Page 4 is done\n",
      "Page 5 is done\n",
      "Page 6 is done\n",
      "Page 7 is done\n",
      "Page 8 is done\n",
      "Page 9 is done\n",
      "Page 10 is done\n",
      "Page 11 is done\n",
      "Page 12 is done\n",
      "Page 13 is done\n",
      "Page 14 is done\n",
      "Page 15 is done\n",
      "Page 16 is done\n",
      "Page 17 is done\n",
      "Page 18 is done\n",
      "Page 19 is done\n",
      "Page 20 is done\n",
      "Page 21 is done\n",
      "Page 22 is done\n",
      "Page 23 is done\n",
      "Page 24 is done\n",
      "Page 25 is done\n",
      "Page 26 is done\n",
      "Page 27 is done\n",
      "Page 28 is done\n",
      "Page 29 is done\n",
      "Page 30 is done\n",
      "Page 31 is done\n",
      "Page 32 is done\n",
      "Page 33 is done\n",
      "Page 34 is done\n",
      "Limit over\n",
      "Shape (400, 12)\n"
     ]
    }
   ],
   "source": [
    "df=pd.DataFrame()\n",
    "for i in range(100):\n",
    "    try:\n",
    "        request=urllib.request.Request('https://in.bookmyshow.com/serv/getData.bms?cmd=GETREVIEWS&'+\n",
    "                                   'eventCode=ET00052469&type=UR&pageNum='+str(i)+'&perPage=6')\n",
    "        response = urllib.request.urlopen(request)\n",
    "        html = response.read()\n",
    "        soup = BeautifulSoup(html,'lxml')\n",
    "        text=soup.get_text()\n",
    "        data = json.loads(text)\n",
    "        df_temp=json_normalize(data['data'][\"Reviews\"])\n",
    "        df=pd.concat((df,df_temp),axis=0)\n",
    "        print (\"Page {} is done\".format(i))\n",
    "    except:\n",
    "        print (\"Limit over\")\n",
    "        break\n",
    "print (\"Shape {}\".format(df.shape))"
   ]
  },
  {
   "cell_type": "code",
   "execution_count": 11,
   "metadata": {
    "collapsed": false
   },
   "outputs": [
    {
     "data": {
      "text/plain": [
       "(200, 12)"
      ]
     },
     "execution_count": 11,
     "metadata": {},
     "output_type": "execute_result"
    }
   ],
   "source": [
    "df_new = df.drop_duplicates(keep='first')\n",
    "df_new.shape"
   ]
  },
  {
   "cell_type": "code",
   "execution_count": 12,
   "metadata": {
    "collapsed": true
   },
   "outputs": [],
   "source": [
    "df.to_csv('../take_off/reviews.xlsx',index=False)"
   ]
  }
 ],
 "metadata": {
  "kernelspec": {
   "display_name": "Python [conda root]",
   "language": "python",
   "name": "conda-root-py"
  },
  "language_info": {
   "codemirror_mode": {
    "name": "ipython",
    "version": 3
   },
   "file_extension": ".py",
   "mimetype": "text/x-python",
   "name": "python",
   "nbconvert_exporter": "python",
   "pygments_lexer": "ipython3",
   "version": "3.5.2"
  }
 },
 "nbformat": 4,
 "nbformat_minor": 2
}
